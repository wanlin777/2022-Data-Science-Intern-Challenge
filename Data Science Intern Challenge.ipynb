{
 "cells": [
  {
   "cell_type": "markdown",
   "id": "3ad261d3-dbe1-4cc8-882f-338f688a645c",
   "metadata": {},
   "source": [
    "# Shopify Summer 2022 Data Science Intern Challenge\n",
    "## Question 1\n",
    "\n",
    "On Shopify, we have exactly 100 sneaker shops, and each of these shops sells only one model of shoe. We want to do some analysis of the average order value (AOV). When we look at orders data over a 30 day window, we naively calculate an AOV of $3145.13. Given that we know these shops are selling sneakers, a relatively affordable item, something seems wrong with our analysis.\n",
    "\n",
    "<br> a. Think about what could be going wrong with our calculation. Think about a better way to evaluate this data. \n",
    "<br> b. What metric would you report for this dataset?\n",
    "<br> c. What is its value?"
   ]
  },
  {
   "cell_type": "markdown",
   "id": "9dce953b-a634-46c3-8390-274bd4f37c2c",
   "metadata": {},
   "source": [
    "### Definition of AOV\n",
    "Referred from Shopify Blog (https://www.shopify.com/blog/average-order-value#averageorder): \"If your store has a total revenue of \\\\$2,000 split between 100 orders, your average order value is \\$20\\. This means that, on average, a customer spends \\\\$20 for each purchase from your store.\" So AOV is defined as **total revenue of orders** divided by **number of orders** (each order can contain multiple items)."
   ]
  },
  {
   "cell_type": "markdown",
   "id": "8e2713e0-7115-415f-85ad-1a8575b598b9",
   "metadata": {
    "tags": []
   },
   "source": [
    "### Answer 1(a) \n",
    "* The mean value of order_amount is $3145.13. So in the problem statement, we try to calculate the average order value (AOV) naively just by using average value of \"order_amount\" for total 5000 records. Given that those shops selling sneakers which are normally affordable, this metric seems not be able to reasonably provide an overview of customer's purchase behavior.\n",
    "* The problem could be there exist several high dollar orders (outliers) that skew up the average order value.\n",
    "\n",
    "&ensp; To better evaluate the data:\n",
    "* Calculating AOV for each shop as we have 100 different shops (need to be be careful with total_items, this is the number of items contained in one order, not the number of orders).\n",
    "* Consider detecting possible fraud/unusual activities and removing these outliers.\n",
    "* Consider using other metrics like median or mode instead of mean."
   ]
  },
  {
   "cell_type": "markdown",
   "id": "2fac23ea-ea46-411e-b042-d6b324dc149f",
   "metadata": {
    "tags": []
   },
   "source": [
    "### Answer 1(b)\n",
    "We have two choices:\n",
    "* If we want to keep all order records, instead, we can use the middle value of all orders (median) or the most frequently occurring order value (mode), which seems to be more representative of customer's purchase behavior of sneakers.\n",
    "* If we want to using the average value of all orders (AOV), then we may want to remove these outliers and use average AOV per shop."
   ]
  },
  {
   "cell_type": "markdown",
   "id": "ee9c7733-1e84-4e65-ad90-207146c69247",
   "metadata": {},
   "source": [
    "### Answer 1(c)\n",
    "* If requiring keeping all order records without removing outliers, instead of using AOV naively, I would report using **median** value of AOV per shop which is **\\\\$308.89** or **mode** value of AOV per shop which is around **\\\\$254**.\n",
    "* If choosing to remove outliers, then I would report **mean** value of AOV per shop which is **\\\\$299.68**. This means that on average, a customer spends around \\\\$300 for each purchase from these sneaker shops.\n",
    "\n",
    "\n",
    "**The following sections shows my detailed work and summary of data analytics result.**\n",
    "\n",
    "-----"
   ]
  },
  {
   "cell_type": "markdown",
   "id": "b9d37ddc-d8bb-404b-8f32-568dabd0255e",
   "metadata": {},
   "source": [
    "### Coding Part of Descriptive Statistics"
   ]
  },
  {
   "cell_type": "code",
   "execution_count": 1,
   "id": "f32d03f6-0fb0-4547-88de-414f643da65c",
   "metadata": {
    "tags": []
   },
   "outputs": [],
   "source": [
    "# Import libraries\n",
    "import pandas as pd\n",
    "import numpy as np\n",
    "import matplotlib.pyplot as plt"
   ]
  },
  {
   "cell_type": "code",
   "execution_count": 2,
   "id": "c95d611f-f9d1-4f6e-a22f-b8ccb32d8298",
   "metadata": {},
   "outputs": [
    {
     "data": {
      "text/html": [
       "<div>\n",
       "<style scoped>\n",
       "    .dataframe tbody tr th:only-of-type {\n",
       "        vertical-align: middle;\n",
       "    }\n",
       "\n",
       "    .dataframe tbody tr th {\n",
       "        vertical-align: top;\n",
       "    }\n",
       "\n",
       "    .dataframe thead th {\n",
       "        text-align: right;\n",
       "    }\n",
       "</style>\n",
       "<table border=\"1\" class=\"dataframe\">\n",
       "  <thead>\n",
       "    <tr style=\"text-align: right;\">\n",
       "      <th></th>\n",
       "      <th>order_id</th>\n",
       "      <th>shop_id</th>\n",
       "      <th>user_id</th>\n",
       "      <th>order_amount</th>\n",
       "      <th>total_items</th>\n",
       "      <th>payment_method</th>\n",
       "      <th>created_at</th>\n",
       "    </tr>\n",
       "  </thead>\n",
       "  <tbody>\n",
       "    <tr>\n",
       "      <th>0</th>\n",
       "      <td>1.0</td>\n",
       "      <td>53.0</td>\n",
       "      <td>746.0</td>\n",
       "      <td>224.0</td>\n",
       "      <td>2.0</td>\n",
       "      <td>cash</td>\n",
       "      <td>2017-03-13 12:36:56.190</td>\n",
       "    </tr>\n",
       "    <tr>\n",
       "      <th>1</th>\n",
       "      <td>2.0</td>\n",
       "      <td>92.0</td>\n",
       "      <td>925.0</td>\n",
       "      <td>90.0</td>\n",
       "      <td>1.0</td>\n",
       "      <td>cash</td>\n",
       "      <td>2017-03-03 17:38:51.999</td>\n",
       "    </tr>\n",
       "    <tr>\n",
       "      <th>2</th>\n",
       "      <td>3.0</td>\n",
       "      <td>44.0</td>\n",
       "      <td>861.0</td>\n",
       "      <td>144.0</td>\n",
       "      <td>1.0</td>\n",
       "      <td>cash</td>\n",
       "      <td>2017-03-14 04:23:55.595</td>\n",
       "    </tr>\n",
       "    <tr>\n",
       "      <th>3</th>\n",
       "      <td>4.0</td>\n",
       "      <td>18.0</td>\n",
       "      <td>935.0</td>\n",
       "      <td>156.0</td>\n",
       "      <td>1.0</td>\n",
       "      <td>credit_card</td>\n",
       "      <td>2017-03-26 12:43:36.649</td>\n",
       "    </tr>\n",
       "    <tr>\n",
       "      <th>4</th>\n",
       "      <td>5.0</td>\n",
       "      <td>18.0</td>\n",
       "      <td>883.0</td>\n",
       "      <td>156.0</td>\n",
       "      <td>1.0</td>\n",
       "      <td>credit_card</td>\n",
       "      <td>2017-03-01 04:35:10.773</td>\n",
       "    </tr>\n",
       "    <tr>\n",
       "      <th>5</th>\n",
       "      <td>6.0</td>\n",
       "      <td>58.0</td>\n",
       "      <td>882.0</td>\n",
       "      <td>138.0</td>\n",
       "      <td>1.0</td>\n",
       "      <td>credit_card</td>\n",
       "      <td>2017-03-14 15:25:00.986</td>\n",
       "    </tr>\n",
       "    <tr>\n",
       "      <th>6</th>\n",
       "      <td>7.0</td>\n",
       "      <td>87.0</td>\n",
       "      <td>915.0</td>\n",
       "      <td>149.0</td>\n",
       "      <td>1.0</td>\n",
       "      <td>cash</td>\n",
       "      <td>2017-03-01 21:37:57.465</td>\n",
       "    </tr>\n",
       "    <tr>\n",
       "      <th>7</th>\n",
       "      <td>8.0</td>\n",
       "      <td>22.0</td>\n",
       "      <td>761.0</td>\n",
       "      <td>292.0</td>\n",
       "      <td>2.0</td>\n",
       "      <td>cash</td>\n",
       "      <td>2017-03-08 02:05:37.981</td>\n",
       "    </tr>\n",
       "    <tr>\n",
       "      <th>8</th>\n",
       "      <td>9.0</td>\n",
       "      <td>64.0</td>\n",
       "      <td>914.0</td>\n",
       "      <td>266.0</td>\n",
       "      <td>2.0</td>\n",
       "      <td>debit</td>\n",
       "      <td>2017-03-17 20:56:50.468</td>\n",
       "    </tr>\n",
       "    <tr>\n",
       "      <th>9</th>\n",
       "      <td>10.0</td>\n",
       "      <td>52.0</td>\n",
       "      <td>788.0</td>\n",
       "      <td>146.0</td>\n",
       "      <td>1.0</td>\n",
       "      <td>credit_card</td>\n",
       "      <td>2017-03-30 21:08:26.343</td>\n",
       "    </tr>\n",
       "  </tbody>\n",
       "</table>\n",
       "</div>"
      ],
      "text/plain": [
       "   order_id  shop_id  user_id  order_amount  total_items payment_method  \\\n",
       "0       1.0     53.0    746.0         224.0          2.0           cash   \n",
       "1       2.0     92.0    925.0          90.0          1.0           cash   \n",
       "2       3.0     44.0    861.0         144.0          1.0           cash   \n",
       "3       4.0     18.0    935.0         156.0          1.0    credit_card   \n",
       "4       5.0     18.0    883.0         156.0          1.0    credit_card   \n",
       "5       6.0     58.0    882.0         138.0          1.0    credit_card   \n",
       "6       7.0     87.0    915.0         149.0          1.0           cash   \n",
       "7       8.0     22.0    761.0         292.0          2.0           cash   \n",
       "8       9.0     64.0    914.0         266.0          2.0          debit   \n",
       "9      10.0     52.0    788.0         146.0          1.0    credit_card   \n",
       "\n",
       "               created_at  \n",
       "0 2017-03-13 12:36:56.190  \n",
       "1 2017-03-03 17:38:51.999  \n",
       "2 2017-03-14 04:23:55.595  \n",
       "3 2017-03-26 12:43:36.649  \n",
       "4 2017-03-01 04:35:10.773  \n",
       "5 2017-03-14 15:25:00.986  \n",
       "6 2017-03-01 21:37:57.465  \n",
       "7 2017-03-08 02:05:37.981  \n",
       "8 2017-03-17 20:56:50.468  \n",
       "9 2017-03-30 21:08:26.343  "
      ]
     },
     "execution_count": 2,
     "metadata": {},
     "output_type": "execute_result"
    }
   ],
   "source": [
    "# Import dataset and print first 10 rows of dataset\n",
    "df = pd.read_excel(\"2019 Winter Data Science Intern Challenge Data Set.xlsx\")\n",
    "df.head(10)"
   ]
  },
  {
   "cell_type": "code",
   "execution_count": 3,
   "id": "521ba65d-ea7b-4ad7-b13a-27a755d1c14a",
   "metadata": {},
   "outputs": [
    {
     "name": "stdout",
     "output_type": "stream",
     "text": [
      "Number of rows: 5000\n",
      "Number of columns: 7\n"
     ]
    }
   ],
   "source": [
    "# Print number of rows and columns\n",
    "print(\"Number of rows:\",df.shape[0])\n",
    "print(\"Number of columns:\",df.shape[1])"
   ]
  },
  {
   "cell_type": "code",
   "execution_count": 4,
   "id": "e9c867c6-65a5-4c98-891e-64e72d6b4f04",
   "metadata": {},
   "outputs": [
    {
     "name": "stdout",
     "output_type": "stream",
     "text": [
      "Index(['order_id', 'shop_id', 'user_id', 'order_amount', 'total_items',\n",
      "       'payment_method', 'created_at'],\n",
      "      dtype='object')\n"
     ]
    }
   ],
   "source": [
    "# Print each column name\n",
    "print(df.columns)"
   ]
  },
  {
   "cell_type": "code",
   "execution_count": 5,
   "id": "c70a7e8c-ace5-417c-962d-acab149ac0b2",
   "metadata": {},
   "outputs": [
    {
     "data": {
      "text/plain": [
       "order_id                 float64\n",
       "shop_id                  float64\n",
       "user_id                  float64\n",
       "order_amount             float64\n",
       "total_items              float64\n",
       "payment_method            object\n",
       "created_at        datetime64[ns]\n",
       "dtype: object"
      ]
     },
     "execution_count": 5,
     "metadata": {},
     "output_type": "execute_result"
    }
   ],
   "source": [
    "# Check type of each column\n",
    "df.dtypes"
   ]
  },
  {
   "cell_type": "code",
   "execution_count": 6,
   "id": "4569abb3-ddbb-4865-af6c-51c7308da88f",
   "metadata": {},
   "outputs": [
    {
     "data": {
      "text/plain": [
       "order_id          0\n",
       "shop_id           0\n",
       "user_id           0\n",
       "order_amount      0\n",
       "total_items       0\n",
       "payment_method    0\n",
       "created_at        0\n",
       "dtype: int64"
      ]
     },
     "execution_count": 6,
     "metadata": {},
     "output_type": "execute_result"
    }
   ],
   "source": [
    "# Check whether exist missing values\n",
    "df.isnull().sum()"
   ]
  },
  {
   "cell_type": "code",
   "execution_count": 7,
   "id": "40ac79a1-c34d-40de-b572-ff0e53f9048f",
   "metadata": {},
   "outputs": [
    {
     "data": {
      "text/plain": [
       "0"
      ]
     },
     "execution_count": 7,
     "metadata": {},
     "output_type": "execute_result"
    }
   ],
   "source": [
    "# Check whether exist duplicated rows\n",
    "df.duplicated().sum()"
   ]
  },
  {
   "cell_type": "code",
   "execution_count": 25,
   "id": "7d732c27-e3f3-4db5-aafd-08f04ed25115",
   "metadata": {},
   "outputs": [
    {
     "data": {
      "text/html": [
       "<div>\n",
       "<style scoped>\n",
       "    .dataframe tbody tr th:only-of-type {\n",
       "        vertical-align: middle;\n",
       "    }\n",
       "\n",
       "    .dataframe tbody tr th {\n",
       "        vertical-align: top;\n",
       "    }\n",
       "\n",
       "    .dataframe thead th {\n",
       "        text-align: right;\n",
       "    }\n",
       "</style>\n",
       "<table border=\"1\" class=\"dataframe\">\n",
       "  <thead>\n",
       "    <tr style=\"text-align: right;\">\n",
       "      <th></th>\n",
       "      <th>order_amount</th>\n",
       "      <th>total_items</th>\n",
       "    </tr>\n",
       "  </thead>\n",
       "  <tbody>\n",
       "    <tr>\n",
       "      <th>count</th>\n",
       "      <td>5000.00</td>\n",
       "      <td>5000.00</td>\n",
       "    </tr>\n",
       "    <tr>\n",
       "      <th>mean</th>\n",
       "      <td>3145.13</td>\n",
       "      <td>8.79</td>\n",
       "    </tr>\n",
       "    <tr>\n",
       "      <th>std</th>\n",
       "      <td>41282.54</td>\n",
       "      <td>116.32</td>\n",
       "    </tr>\n",
       "    <tr>\n",
       "      <th>min</th>\n",
       "      <td>90.00</td>\n",
       "      <td>1.00</td>\n",
       "    </tr>\n",
       "    <tr>\n",
       "      <th>25%</th>\n",
       "      <td>163.00</td>\n",
       "      <td>1.00</td>\n",
       "    </tr>\n",
       "    <tr>\n",
       "      <th>50%</th>\n",
       "      <td>284.00</td>\n",
       "      <td>2.00</td>\n",
       "    </tr>\n",
       "    <tr>\n",
       "      <th>75%</th>\n",
       "      <td>390.00</td>\n",
       "      <td>3.00</td>\n",
       "    </tr>\n",
       "    <tr>\n",
       "      <th>max</th>\n",
       "      <td>704000.00</td>\n",
       "      <td>2000.00</td>\n",
       "    </tr>\n",
       "  </tbody>\n",
       "</table>\n",
       "</div>"
      ],
      "text/plain": [
       "       order_amount  total_items\n",
       "count       5000.00      5000.00\n",
       "mean        3145.13         8.79\n",
       "std        41282.54       116.32\n",
       "min           90.00         1.00\n",
       "25%          163.00         1.00\n",
       "50%          284.00         2.00\n",
       "75%          390.00         3.00\n",
       "max       704000.00      2000.00"
      ]
     },
     "execution_count": 25,
     "metadata": {},
     "output_type": "execute_result"
    }
   ],
   "source": [
    "# Descriptive statistics for order_amount and total_items \n",
    "pd.options.display.float_format = \"{:.2f}\".format\n",
    "df[[\"order_amount\", \"total_items\"]].describe()"
   ]
  },
  {
   "cell_type": "markdown",
   "id": "760b2321-69eb-413e-a620-6208f52592b2",
   "metadata": {
    "tags": [],
    "toc-hr-collapsed": true
   },
   "source": [
    "### Summary of Descriptive Statistics\n",
    "* The dataset contains 5000 order records of 100 sneaker shops (each sells one model of sneaker) over a 30-day window.\n",
    "* The dataset doesn't contain any duplicated rows or missing value.\n",
    "* The mean value of order_amount is \\\\$3145.13. The minimum value of order_amount is \\$90 while the maximum value is \\\\$704000, so there are definitely a few high dollar orders that skew up the average.\n",
    "* Each order purchased contains multiple items. The average number of items within in one order is around 9. The minimum numer of items within in one order is 1 and maximum is 2000."
   ]
  },
  {
   "cell_type": "markdown",
   "id": "c74376a5-f3a6-4157-81ae-de4365851c3d",
   "metadata": {},
   "source": [
    "### Coding Part of Calculating AOV per Shop "
   ]
  },
  {
   "cell_type": "code",
   "execution_count": 9,
   "id": "be68c5ed-2915-48fe-8cdd-14b4f868066b",
   "metadata": {},
   "outputs": [],
   "source": [
    "# Group dataset by shop_id and calculate AOV per shop\n",
    "order_amount_by_shopid = df.groupby([\"shop_id\"])[\"order_amount\"].agg('sum')\n",
    "order_frequency_by_shopid = df[\"shop_id\"].value_counts()\n",
    "total_items_by_shopid = df.groupby([\"shop_id\"])[\"total_items\"].agg('sum')\n",
    "df_shopid = pd.concat([order_amount_by_shopid, order_frequency_by_shopid, total_items_by_shopid], axis = 1)\n",
    "df_shopid.columns = [\"order_amount\", \"order_frequency\", \"total_items\"]\n",
    "df_shopid.index.name= \"shop_id\""
   ]
  },
  {
   "cell_type": "code",
   "execution_count": 10,
   "id": "66a818a9-02b1-42a6-831c-0e3520a18b31",
   "metadata": {},
   "outputs": [
    {
     "data": {
      "text/html": [
       "<div>\n",
       "<style scoped>\n",
       "    .dataframe tbody tr th:only-of-type {\n",
       "        vertical-align: middle;\n",
       "    }\n",
       "\n",
       "    .dataframe tbody tr th {\n",
       "        vertical-align: top;\n",
       "    }\n",
       "\n",
       "    .dataframe thead th {\n",
       "        text-align: right;\n",
       "    }\n",
       "</style>\n",
       "<table border=\"1\" class=\"dataframe\">\n",
       "  <thead>\n",
       "    <tr style=\"text-align: right;\">\n",
       "      <th></th>\n",
       "      <th>order_amount</th>\n",
       "      <th>order_frequency</th>\n",
       "      <th>total_items</th>\n",
       "    </tr>\n",
       "    <tr>\n",
       "      <th>shop_id</th>\n",
       "      <th></th>\n",
       "      <th></th>\n",
       "      <th></th>\n",
       "    </tr>\n",
       "  </thead>\n",
       "  <tbody>\n",
       "    <tr>\n",
       "      <th>1.0</th>\n",
       "      <td>13588.0</td>\n",
       "      <td>44</td>\n",
       "      <td>86.0</td>\n",
       "    </tr>\n",
       "    <tr>\n",
       "      <th>2.0</th>\n",
       "      <td>9588.0</td>\n",
       "      <td>55</td>\n",
       "      <td>102.0</td>\n",
       "    </tr>\n",
       "    <tr>\n",
       "      <th>3.0</th>\n",
       "      <td>14652.0</td>\n",
       "      <td>48</td>\n",
       "      <td>99.0</td>\n",
       "    </tr>\n",
       "    <tr>\n",
       "      <th>4.0</th>\n",
       "      <td>13184.0</td>\n",
       "      <td>51</td>\n",
       "      <td>103.0</td>\n",
       "    </tr>\n",
       "    <tr>\n",
       "      <th>5.0</th>\n",
       "      <td>13064.0</td>\n",
       "      <td>45</td>\n",
       "      <td>92.0</td>\n",
       "    </tr>\n",
       "    <tr>\n",
       "      <th>6.0</th>\n",
       "      <td>22627.0</td>\n",
       "      <td>59</td>\n",
       "      <td>121.0</td>\n",
       "    </tr>\n",
       "    <tr>\n",
       "      <th>7.0</th>\n",
       "      <td>12208.0</td>\n",
       "      <td>56</td>\n",
       "      <td>109.0</td>\n",
       "    </tr>\n",
       "    <tr>\n",
       "      <th>8.0</th>\n",
       "      <td>11088.0</td>\n",
       "      <td>46</td>\n",
       "      <td>84.0</td>\n",
       "    </tr>\n",
       "    <tr>\n",
       "      <th>9.0</th>\n",
       "      <td>13806.0</td>\n",
       "      <td>59</td>\n",
       "      <td>117.0</td>\n",
       "    </tr>\n",
       "    <tr>\n",
       "      <th>10.0</th>\n",
       "      <td>17612.0</td>\n",
       "      <td>53</td>\n",
       "      <td>119.0</td>\n",
       "    </tr>\n",
       "  </tbody>\n",
       "</table>\n",
       "</div>"
      ],
      "text/plain": [
       "         order_amount  order_frequency  total_items\n",
       "shop_id                                            \n",
       "1.0           13588.0               44         86.0\n",
       "2.0            9588.0               55        102.0\n",
       "3.0           14652.0               48         99.0\n",
       "4.0           13184.0               51        103.0\n",
       "5.0           13064.0               45         92.0\n",
       "6.0           22627.0               59        121.0\n",
       "7.0           12208.0               56        109.0\n",
       "8.0           11088.0               46         84.0\n",
       "9.0           13806.0               59        117.0\n",
       "10.0          17612.0               53        119.0"
      ]
     },
     "execution_count": 10,
     "metadata": {},
     "output_type": "execute_result"
    }
   ],
   "source": [
    "# Print first 10 rows of df_shopid\n",
    "df_shopid.head(10)"
   ]
  },
  {
   "cell_type": "markdown",
   "id": "d932f8cf-de23-4bde-b46b-0061108469ce",
   "metadata": {},
   "source": [
    "**As each sneaker shop only sells one model of sneaker, we can calculate sneaker price for each shop using $\\cfrac{\\text{order_amount}}{\\text{total_items}}$.**"
   ]
  },
  {
   "cell_type": "code",
   "execution_count": 11,
   "id": "205b785f-9b28-4c08-928a-15aa9d19831e",
   "metadata": {},
   "outputs": [],
   "source": [
    "# Add a column calculating price of the sneaker model offered by each shop\n",
    "df_shopid[\"price_per_sneaker\"] = df_shopid[\"order_amount\"]/df_shopid[\"total_items\"]"
   ]
  },
  {
   "cell_type": "code",
   "execution_count": 12,
   "id": "facda149-34e0-43fc-b0e7-530b159719f8",
   "metadata": {},
   "outputs": [
    {
     "data": {
      "text/html": [
       "<div>\n",
       "<style scoped>\n",
       "    .dataframe tbody tr th:only-of-type {\n",
       "        vertical-align: middle;\n",
       "    }\n",
       "\n",
       "    .dataframe tbody tr th {\n",
       "        vertical-align: top;\n",
       "    }\n",
       "\n",
       "    .dataframe thead th {\n",
       "        text-align: right;\n",
       "    }\n",
       "</style>\n",
       "<table border=\"1\" class=\"dataframe\">\n",
       "  <thead>\n",
       "    <tr style=\"text-align: right;\">\n",
       "      <th></th>\n",
       "      <th>shop_id</th>\n",
       "      <th>order_amount</th>\n",
       "      <th>order_frequency</th>\n",
       "      <th>total_items</th>\n",
       "      <th>price_per_sneaker</th>\n",
       "      <th>AOV</th>\n",
       "    </tr>\n",
       "  </thead>\n",
       "  <tbody>\n",
       "    <tr>\n",
       "      <th>0</th>\n",
       "      <td>1.0</td>\n",
       "      <td>13588.0</td>\n",
       "      <td>44</td>\n",
       "      <td>86.0</td>\n",
       "      <td>158.0</td>\n",
       "      <td>308.818182</td>\n",
       "    </tr>\n",
       "    <tr>\n",
       "      <th>1</th>\n",
       "      <td>2.0</td>\n",
       "      <td>9588.0</td>\n",
       "      <td>55</td>\n",
       "      <td>102.0</td>\n",
       "      <td>94.0</td>\n",
       "      <td>174.327273</td>\n",
       "    </tr>\n",
       "    <tr>\n",
       "      <th>2</th>\n",
       "      <td>3.0</td>\n",
       "      <td>14652.0</td>\n",
       "      <td>48</td>\n",
       "      <td>99.0</td>\n",
       "      <td>148.0</td>\n",
       "      <td>305.250000</td>\n",
       "    </tr>\n",
       "    <tr>\n",
       "      <th>3</th>\n",
       "      <td>4.0</td>\n",
       "      <td>13184.0</td>\n",
       "      <td>51</td>\n",
       "      <td>103.0</td>\n",
       "      <td>128.0</td>\n",
       "      <td>258.509804</td>\n",
       "    </tr>\n",
       "    <tr>\n",
       "      <th>4</th>\n",
       "      <td>5.0</td>\n",
       "      <td>13064.0</td>\n",
       "      <td>45</td>\n",
       "      <td>92.0</td>\n",
       "      <td>142.0</td>\n",
       "      <td>290.311111</td>\n",
       "    </tr>\n",
       "    <tr>\n",
       "      <th>5</th>\n",
       "      <td>6.0</td>\n",
       "      <td>22627.0</td>\n",
       "      <td>59</td>\n",
       "      <td>121.0</td>\n",
       "      <td>187.0</td>\n",
       "      <td>383.508475</td>\n",
       "    </tr>\n",
       "    <tr>\n",
       "      <th>6</th>\n",
       "      <td>7.0</td>\n",
       "      <td>12208.0</td>\n",
       "      <td>56</td>\n",
       "      <td>109.0</td>\n",
       "      <td>112.0</td>\n",
       "      <td>218.000000</td>\n",
       "    </tr>\n",
       "    <tr>\n",
       "      <th>7</th>\n",
       "      <td>8.0</td>\n",
       "      <td>11088.0</td>\n",
       "      <td>46</td>\n",
       "      <td>84.0</td>\n",
       "      <td>132.0</td>\n",
       "      <td>241.043478</td>\n",
       "    </tr>\n",
       "    <tr>\n",
       "      <th>8</th>\n",
       "      <td>9.0</td>\n",
       "      <td>13806.0</td>\n",
       "      <td>59</td>\n",
       "      <td>117.0</td>\n",
       "      <td>118.0</td>\n",
       "      <td>234.000000</td>\n",
       "    </tr>\n",
       "    <tr>\n",
       "      <th>9</th>\n",
       "      <td>10.0</td>\n",
       "      <td>17612.0</td>\n",
       "      <td>53</td>\n",
       "      <td>119.0</td>\n",
       "      <td>148.0</td>\n",
       "      <td>332.301887</td>\n",
       "    </tr>\n",
       "  </tbody>\n",
       "</table>\n",
       "</div>"
      ],
      "text/plain": [
       "   shop_id  order_amount  order_frequency  total_items  price_per_sneaker  \\\n",
       "0      1.0       13588.0               44         86.0              158.0   \n",
       "1      2.0        9588.0               55        102.0               94.0   \n",
       "2      3.0       14652.0               48         99.0              148.0   \n",
       "3      4.0       13184.0               51        103.0              128.0   \n",
       "4      5.0       13064.0               45         92.0              142.0   \n",
       "5      6.0       22627.0               59        121.0              187.0   \n",
       "6      7.0       12208.0               56        109.0              112.0   \n",
       "7      8.0       11088.0               46         84.0              132.0   \n",
       "8      9.0       13806.0               59        117.0              118.0   \n",
       "9     10.0       17612.0               53        119.0              148.0   \n",
       "\n",
       "          AOV  \n",
       "0  308.818182  \n",
       "1  174.327273  \n",
       "2  305.250000  \n",
       "3  258.509804  \n",
       "4  290.311111  \n",
       "5  383.508475  \n",
       "6  218.000000  \n",
       "7  241.043478  \n",
       "8  234.000000  \n",
       "9  332.301887  "
      ]
     },
     "execution_count": 12,
     "metadata": {},
     "output_type": "execute_result"
    }
   ],
   "source": [
    "# Add a column calculating AOV per shop\n",
    "df_shopid[\"AOV\"] = df_shopid[\"order_amount\"]/df_shopid[\"order_frequency\"]\n",
    "df_shopid.reset_index(level=0, inplace=True)\n",
    "# Show first 10 rows of df_shopid\n",
    "df_shopid.head(10)"
   ]
  },
  {
   "cell_type": "code",
   "execution_count": 13,
   "id": "d3817481-0c19-46be-8880-37e97ec0425d",
   "metadata": {},
   "outputs": [
    {
     "data": {
      "text/html": [
       "<div>\n",
       "<style scoped>\n",
       "    .dataframe tbody tr th:only-of-type {\n",
       "        vertical-align: middle;\n",
       "    }\n",
       "\n",
       "    .dataframe tbody tr th {\n",
       "        vertical-align: top;\n",
       "    }\n",
       "\n",
       "    .dataframe thead th {\n",
       "        text-align: right;\n",
       "    }\n",
       "</style>\n",
       "<table border=\"1\" class=\"dataframe\">\n",
       "  <thead>\n",
       "    <tr style=\"text-align: right;\">\n",
       "      <th></th>\n",
       "      <th>shop_id</th>\n",
       "      <th>order_amount</th>\n",
       "      <th>order_frequency</th>\n",
       "      <th>total_items</th>\n",
       "      <th>price_per_sneaker</th>\n",
       "      <th>AOV</th>\n",
       "    </tr>\n",
       "  </thead>\n",
       "  <tbody>\n",
       "    <tr>\n",
       "      <th>count</th>\n",
       "      <td>100.00</td>\n",
       "      <td>100.00</td>\n",
       "      <td>100.00</td>\n",
       "      <td>100.00</td>\n",
       "      <td>100.00</td>\n",
       "      <td>100.00</td>\n",
       "    </tr>\n",
       "    <tr>\n",
       "      <th>mean</th>\n",
       "      <td>50.50</td>\n",
       "      <td>157256.40</td>\n",
       "      <td>50.00</td>\n",
       "      <td>439.36</td>\n",
       "      <td>407.99</td>\n",
       "      <td>3136.83</td>\n",
       "    </tr>\n",
       "    <tr>\n",
       "      <th>std</th>\n",
       "      <td>29.01</td>\n",
       "      <td>1216217.94</td>\n",
       "      <td>7.29</td>\n",
       "      <td>3396.37</td>\n",
       "      <td>2557.46</td>\n",
       "      <td>23935.88</td>\n",
       "    </tr>\n",
       "    <tr>\n",
       "      <th>min</th>\n",
       "      <td>1.00</td>\n",
       "      <td>6840.00</td>\n",
       "      <td>35.00</td>\n",
       "      <td>67.00</td>\n",
       "      <td>90.00</td>\n",
       "      <td>162.86</td>\n",
       "    </tr>\n",
       "    <tr>\n",
       "      <th>25%</th>\n",
       "      <td>25.75</td>\n",
       "      <td>12930.50</td>\n",
       "      <td>44.75</td>\n",
       "      <td>88.00</td>\n",
       "      <td>132.75</td>\n",
       "      <td>263.68</td>\n",
       "    </tr>\n",
       "    <tr>\n",
       "      <th>50%</th>\n",
       "      <td>50.50</td>\n",
       "      <td>14887.50</td>\n",
       "      <td>50.00</td>\n",
       "      <td>100.00</td>\n",
       "      <td>153.00</td>\n",
       "      <td>308.89</td>\n",
       "    </tr>\n",
       "    <tr>\n",
       "      <th>75%</th>\n",
       "      <td>75.25</td>\n",
       "      <td>17600.00</td>\n",
       "      <td>55.00</td>\n",
       "      <td>111.25</td>\n",
       "      <td>168.25</td>\n",
       "      <td>336.63</td>\n",
       "    </tr>\n",
       "    <tr>\n",
       "      <th>max</th>\n",
       "      <td>100.00</td>\n",
       "      <td>11990176.00</td>\n",
       "      <td>68.00</td>\n",
       "      <td>34063.00</td>\n",
       "      <td>25725.00</td>\n",
       "      <td>235101.49</td>\n",
       "    </tr>\n",
       "  </tbody>\n",
       "</table>\n",
       "</div>"
      ],
      "text/plain": [
       "       shop_id  order_amount  order_frequency  total_items  price_per_sneaker  \\\n",
       "count   100.00        100.00           100.00       100.00             100.00   \n",
       "mean     50.50     157256.40            50.00       439.36             407.99   \n",
       "std      29.01    1216217.94             7.29      3396.37            2557.46   \n",
       "min       1.00       6840.00            35.00        67.00              90.00   \n",
       "25%      25.75      12930.50            44.75        88.00             132.75   \n",
       "50%      50.50      14887.50            50.00       100.00             153.00   \n",
       "75%      75.25      17600.00            55.00       111.25             168.25   \n",
       "max     100.00   11990176.00            68.00     34063.00           25725.00   \n",
       "\n",
       "            AOV  \n",
       "count    100.00  \n",
       "mean    3136.83  \n",
       "std    23935.88  \n",
       "min      162.86  \n",
       "25%      263.68  \n",
       "50%      308.89  \n",
       "75%      336.63  \n",
       "max   235101.49  "
      ]
     },
     "execution_count": 13,
     "metadata": {},
     "output_type": "execute_result"
    }
   ],
   "source": [
    "# Descriptive statistics for df_shopid\n",
    "pd.options.display.float_format = \"{:.2f}\".format\n",
    "df_shopid.describe()"
   ]
  },
  {
   "cell_type": "markdown",
   "id": "9fab9d2f-0238-46a8-8b25-a88567b2aa9e",
   "metadata": {},
   "source": [
    "### Summary of Analytics\n",
    "* After calculating AOV for each shop, we can see the average AOV among 100 shops is 3136.83. The minimum AOV is 162.86 and maximum AOV is 235101.49. The median AOV is 308.89, which seems more reasonable.\n",
    "* The standard deviation of AOV among 100 shops is 23935.88, which is pretty huge. And the 75th percentile is 336.63 which is actually close to the median value. **So there exist outliers that skew up the average AOV**.\n",
    "* Total Number of orders per shop over a 30-day windows range from 35 to 68.\n",
    "* Checking price per sneaker model, the maximum value is 25725, which seems like an unusual pricing for a pair of sneaker. And this also confirms that there exist very large value orders that skew up the average order value (AOV).\n",
    "* We may want to check the shop which selling sneaker at price 25725 and the shop which has largest order_amount 11990176."
   ]
  },
  {
   "cell_type": "markdown",
   "id": "39029e30-39ce-45a9-bae4-d57b55e86f7a",
   "metadata": {},
   "source": [
    "### Coding Part of Detecting Outliers and Unusual Activity"
   ]
  },
  {
   "cell_type": "code",
   "execution_count": 14,
   "id": "a96f763f-93ca-46c3-b586-3fed68e24d32",
   "metadata": {},
   "outputs": [
    {
     "data": {
      "text/plain": [
       "shop_id                  78.00\n",
       "order_amount        2263800.00\n",
       "order_frequency          46.00\n",
       "total_items              88.00\n",
       "price_per_sneaker     25725.00\n",
       "AOV                   49213.04\n",
       "Name: 77, dtype: float64"
      ]
     },
     "execution_count": 14,
     "metadata": {},
     "output_type": "execute_result"
    }
   ],
   "source": [
    "# Locate the shop_id that sells sneaker at $25725\n",
    "idx = df_shopid[\"price_per_sneaker\"].argmax()\n",
    "df_shopid.iloc[idx]"
   ]
  },
  {
   "cell_type": "markdown",
   "id": "d88088a1-c76e-4de8-8415-022389bc3242",
   "metadata": {},
   "source": [
    "**So the shop_id is 78 that sells sneaker at $25725.**"
   ]
  },
  {
   "cell_type": "code",
   "execution_count": 15,
   "id": "cc72cc9a-d410-4710-b1b6-c16df925c8fb",
   "metadata": {},
   "outputs": [
    {
     "data": {
      "text/html": [
       "<div>\n",
       "<style scoped>\n",
       "    .dataframe tbody tr th:only-of-type {\n",
       "        vertical-align: middle;\n",
       "    }\n",
       "\n",
       "    .dataframe tbody tr th {\n",
       "        vertical-align: top;\n",
       "    }\n",
       "\n",
       "    .dataframe thead th {\n",
       "        text-align: right;\n",
       "    }\n",
       "</style>\n",
       "<table border=\"1\" class=\"dataframe\">\n",
       "  <thead>\n",
       "    <tr style=\"text-align: right;\">\n",
       "      <th></th>\n",
       "      <th>shop_id</th>\n",
       "      <th>order_amount</th>\n",
       "      <th>order_frequency</th>\n",
       "      <th>total_items</th>\n",
       "      <th>price_per_sneaker</th>\n",
       "      <th>AOV</th>\n",
       "    </tr>\n",
       "  </thead>\n",
       "  <tbody>\n",
       "    <tr>\n",
       "      <th>77</th>\n",
       "      <td>78.00</td>\n",
       "      <td>2263800.00</td>\n",
       "      <td>46</td>\n",
       "      <td>88.00</td>\n",
       "      <td>25725.00</td>\n",
       "      <td>49213.04</td>\n",
       "    </tr>\n",
       "  </tbody>\n",
       "</table>\n",
       "</div>"
      ],
      "text/plain": [
       "    shop_id  order_amount  order_frequency  total_items  price_per_sneaker  \\\n",
       "77    78.00    2263800.00               46        88.00           25725.00   \n",
       "\n",
       "        AOV  \n",
       "77 49213.04  "
      ]
     },
     "execution_count": 15,
     "metadata": {},
     "output_type": "execute_result"
    }
   ],
   "source": [
    "# Locate record of shop_id = 78\n",
    "df_shopid_78 = df_shopid[df_shopid[\"shop_id\"] == 78]\n",
    "df_shopid_78"
   ]
  },
  {
   "cell_type": "code",
   "execution_count": 31,
   "id": "9d37b2b8-0283-4c51-a8d4-792ae48da726",
   "metadata": {},
   "outputs": [
    {
     "data": {
      "text/plain": [
       "payment_method\n",
       "cash           18\n",
       "debit          18\n",
       "credit_card    10\n",
       "dtype: int64"
      ]
     },
     "execution_count": 31,
     "metadata": {},
     "output_type": "execute_result"
    }
   ],
   "source": [
    "# Check payment_methods of orders from shop_id 78\n",
    "df[df[\"shop_id\"]==78].value_counts(\"payment_method\")"
   ]
  },
  {
   "cell_type": "markdown",
   "id": "efddb2a1-49b2-4d65-bef4-de57062b097a",
   "metadata": {},
   "source": [
    "**There are 10 orders of shop_id 78 were paid by credit_card.**"
   ]
  },
  {
   "cell_type": "code",
   "execution_count": 16,
   "id": "10f2e117-eb12-4b4b-b346-f4ec467cdd46",
   "metadata": {},
   "outputs": [
    {
     "data": {
      "text/plain": [
       "shop_id                   42.00\n",
       "order_amount        11990176.00\n",
       "order_frequency           51.00\n",
       "total_items            34063.00\n",
       "price_per_sneaker        352.00\n",
       "AOV                   235101.49\n",
       "Name: 41, dtype: float64"
      ]
     },
     "execution_count": 16,
     "metadata": {},
     "output_type": "execute_result"
    }
   ],
   "source": [
    "# Locate shop_id that has largest order_amount\n",
    "idx = df_shopid[\"order_amount\"].argmax()\n",
    "df_shopid.iloc[idx]"
   ]
  },
  {
   "cell_type": "markdown",
   "id": "67179a06-f167-46a1-9c56-31379cf1b672",
   "metadata": {},
   "source": [
    "**So the shop_id is 42 that has largest order_amount.**"
   ]
  },
  {
   "cell_type": "code",
   "execution_count": 17,
   "id": "323a28b8-d1d2-4feb-9d08-b243587eb881",
   "metadata": {},
   "outputs": [
    {
     "data": {
      "text/html": [
       "<div>\n",
       "<style scoped>\n",
       "    .dataframe tbody tr th:only-of-type {\n",
       "        vertical-align: middle;\n",
       "    }\n",
       "\n",
       "    .dataframe tbody tr th {\n",
       "        vertical-align: top;\n",
       "    }\n",
       "\n",
       "    .dataframe thead th {\n",
       "        text-align: right;\n",
       "    }\n",
       "</style>\n",
       "<table border=\"1\" class=\"dataframe\">\n",
       "  <thead>\n",
       "    <tr style=\"text-align: right;\">\n",
       "      <th></th>\n",
       "      <th>shop_id</th>\n",
       "      <th>order_amount</th>\n",
       "      <th>order_frequency</th>\n",
       "      <th>total_items</th>\n",
       "      <th>price_per_sneaker</th>\n",
       "      <th>AOV</th>\n",
       "    </tr>\n",
       "  </thead>\n",
       "  <tbody>\n",
       "    <tr>\n",
       "      <th>41</th>\n",
       "      <td>42.00</td>\n",
       "      <td>11990176.00</td>\n",
       "      <td>51</td>\n",
       "      <td>34063.00</td>\n",
       "      <td>352.00</td>\n",
       "      <td>235101.49</td>\n",
       "    </tr>\n",
       "  </tbody>\n",
       "</table>\n",
       "</div>"
      ],
      "text/plain": [
       "    shop_id  order_amount  order_frequency  total_items  price_per_sneaker  \\\n",
       "41    42.00   11990176.00               51     34063.00             352.00   \n",
       "\n",
       "         AOV  \n",
       "41 235101.49  "
      ]
     },
     "execution_count": 17,
     "metadata": {},
     "output_type": "execute_result"
    }
   ],
   "source": [
    "# Locate record of shop_id = 78\n",
    "df_shopid_42 = df_shopid[df_shopid[\"shop_id\"] == 42]\n",
    "df_shopid_42"
   ]
  },
  {
   "cell_type": "code",
   "execution_count": 18,
   "id": "87234082-c857-4899-bb25-5274ba71b033",
   "metadata": {},
   "outputs": [
    {
     "data": {
      "text/plain": [
       "order_id                        16.00\n",
       "shop_id                         42.00\n",
       "user_id                        607.00\n",
       "order_amount                704000.00\n",
       "total_items                   2000.00\n",
       "payment_method            credit_card\n",
       "created_at        2017-03-07 04:00:00\n",
       "Name: 15, dtype: object"
      ]
     },
     "execution_count": 18,
     "metadata": {},
     "output_type": "execute_result"
    }
   ],
   "source": [
    "# Locate order record that has maximum total_items within one order\n",
    "idx = df[\"total_items\"].argmax()\n",
    "df.iloc[idx]"
   ]
  },
  {
   "cell_type": "markdown",
   "id": "8cc9ebf8-e0c3-4838-9c99-6477160a8ab3",
   "metadata": {},
   "source": [
    "**And the shop_id 42 has an order that contains 2000 items purchased by user_id 607 !!**"
   ]
  },
  {
   "cell_type": "code",
   "execution_count": 19,
   "id": "3e491870-62ef-42e6-904f-4da8dbd08ab9",
   "metadata": {},
   "outputs": [
    {
     "data": {
      "image/png": "[encoded data removed]",
      "text/plain": [
       "<Figure size 640x480 with 1 Axes>"
      ]
     },
     "metadata": {},
     "output_type": "display_data"
    }
   ],
   "source": [
    "# Visualize 100 shops' AOV using boxplot\n",
    "plotdata = df_shopid[\"AOV\"]\n",
    "plt.boxplot(plotdata, vert = False, labels=[\"AOV per shop\"])\n",
    "plt.show()"
   ]
  },
  {
   "cell_type": "markdown",
   "id": "0c02899a-a02d-4ac4-8c0b-6da20f783d1f",
   "metadata": {},
   "source": [
    "### Summary of Outliers/Unusual Records\n",
    "* Clearly from the visualization, there are two outliers (pretty extreme values): shop 78 and shop 42 that has extreme high AOV that we need to keep an eye on.\n",
    "* For the shop_id 78, over a 30-day window, it has 46 order records with \\\\$2263800 order_amount. And total_items within these orders are 88, which means in average around 2 items per order. Also, there are 10 orders out of 46 orders were paid by credit_card. So there might exists unusual transactions(credit card fraud) or maybe this shop sells limited edition luxury sneaker model.\n",
    "* For the shop_id 42, over a 30-day window, it has 51 order records with \\\\$11990176 order_amount. And total_items within these orders are 34063, which means there exists some orders that each of them contains a very large number of items. But when we look at the price of its sneaker, pricing at \\$352 is a little bit high but acceptable if it sells high-end sneaker model."
   ]
  },
  {
   "cell_type": "markdown",
   "id": "de09b987-54d5-4483-ad49-8da28c1aa664",
   "metadata": {},
   "source": [
    "### Coding Part of Metrics Median and Mode"
   ]
  },
  {
   "cell_type": "code",
   "execution_count": 20,
   "id": "5581e4f2-b909-4e0f-b1fb-45c71c620cc8",
   "metadata": {},
   "outputs": [
    {
     "data": {
      "text/html": [
       "<div>\n",
       "<style scoped>\n",
       "    .dataframe tbody tr th:only-of-type {\n",
       "        vertical-align: middle;\n",
       "    }\n",
       "\n",
       "    .dataframe tbody tr th {\n",
       "        vertical-align: top;\n",
       "    }\n",
       "\n",
       "    .dataframe thead th {\n",
       "        text-align: right;\n",
       "    }\n",
       "</style>\n",
       "<table border=\"1\" class=\"dataframe\">\n",
       "  <thead>\n",
       "    <tr style=\"text-align: right;\">\n",
       "      <th></th>\n",
       "      <th>shop_id</th>\n",
       "      <th>order_amount</th>\n",
       "      <th>order_frequency</th>\n",
       "      <th>total_items</th>\n",
       "      <th>price_per_sneaker</th>\n",
       "      <th>AOV</th>\n",
       "    </tr>\n",
       "  </thead>\n",
       "  <tbody>\n",
       "    <tr>\n",
       "      <th>0</th>\n",
       "      <td>1.00</td>\n",
       "      <td>13588.00</td>\n",
       "      <td>44</td>\n",
       "      <td>86.00</td>\n",
       "      <td>158.00</td>\n",
       "      <td>308.82</td>\n",
       "    </tr>\n",
       "    <tr>\n",
       "      <th>1</th>\n",
       "      <td>2.00</td>\n",
       "      <td>9588.00</td>\n",
       "      <td>55</td>\n",
       "      <td>102.00</td>\n",
       "      <td>94.00</td>\n",
       "      <td>174.33</td>\n",
       "    </tr>\n",
       "    <tr>\n",
       "      <th>2</th>\n",
       "      <td>3.00</td>\n",
       "      <td>14652.00</td>\n",
       "      <td>48</td>\n",
       "      <td>99.00</td>\n",
       "      <td>148.00</td>\n",
       "      <td>305.25</td>\n",
       "    </tr>\n",
       "    <tr>\n",
       "      <th>3</th>\n",
       "      <td>4.00</td>\n",
       "      <td>13184.00</td>\n",
       "      <td>51</td>\n",
       "      <td>103.00</td>\n",
       "      <td>128.00</td>\n",
       "      <td>258.51</td>\n",
       "    </tr>\n",
       "    <tr>\n",
       "      <th>4</th>\n",
       "      <td>5.00</td>\n",
       "      <td>13064.00</td>\n",
       "      <td>45</td>\n",
       "      <td>92.00</td>\n",
       "      <td>142.00</td>\n",
       "      <td>290.31</td>\n",
       "    </tr>\n",
       "  </tbody>\n",
       "</table>\n",
       "</div>"
      ],
      "text/plain": [
       "   shop_id  order_amount  order_frequency  total_items  price_per_sneaker  \\\n",
       "0     1.00      13588.00               44        86.00             158.00   \n",
       "1     2.00       9588.00               55       102.00              94.00   \n",
       "2     3.00      14652.00               48        99.00             148.00   \n",
       "3     4.00      13184.00               51       103.00             128.00   \n",
       "4     5.00      13064.00               45        92.00             142.00   \n",
       "\n",
       "     AOV  \n",
       "0 308.82  \n",
       "1 174.33  \n",
       "2 305.25  \n",
       "3 258.51  \n",
       "4 290.31  "
      ]
     },
     "execution_count": 20,
     "metadata": {},
     "output_type": "execute_result"
    }
   ],
   "source": [
    "# Look at df_shopid again\n",
    "df_shopid.head()"
   ]
  },
  {
   "cell_type": "code",
   "execution_count": 21,
   "id": "24f001ca-9c63-4dab-8aa7-5f487892e4f8",
   "metadata": {},
   "outputs": [
    {
     "name": "stdout",
     "output_type": "stream",
     "text": [
      "the mean value of AOV per shop: 3136.834087887025\n",
      "the median value of AOV per shop: 308.8897584973166\n",
      "the mode value of AOV per shop: 254\n"
     ]
    }
   ],
   "source": [
    "# Find values of mean, median and mode of AOV\n",
    "print(\"the mean value of AOV per shop:\", df_shopid[\"AOV\"].mean())\n",
    "print(\"the median value of AOV per shop:\", df_shopid[\"AOV\"].median())\n",
    "print(\"the mode value of AOV per shop:\", df_shopid[\"AOV\"].astype(int).mode()[0])"
   ]
  },
  {
   "cell_type": "code",
   "execution_count": 22,
   "id": "3f0e7281-e909-4889-9b44-d935c838e06b",
   "metadata": {},
   "outputs": [
    {
     "data": {
      "text/html": [
       "<div>\n",
       "<style scoped>\n",
       "    .dataframe tbody tr th:only-of-type {\n",
       "        vertical-align: middle;\n",
       "    }\n",
       "\n",
       "    .dataframe tbody tr th {\n",
       "        vertical-align: top;\n",
       "    }\n",
       "\n",
       "    .dataframe thead th {\n",
       "        text-align: right;\n",
       "    }\n",
       "</style>\n",
       "<table border=\"1\" class=\"dataframe\">\n",
       "  <thead>\n",
       "    <tr style=\"text-align: right;\">\n",
       "      <th></th>\n",
       "      <th>shop_id</th>\n",
       "      <th>order_amount</th>\n",
       "      <th>order_frequency</th>\n",
       "      <th>total_items</th>\n",
       "      <th>price_per_sneaker</th>\n",
       "      <th>AOV</th>\n",
       "    </tr>\n",
       "  </thead>\n",
       "  <tbody>\n",
       "    <tr>\n",
       "      <th>count</th>\n",
       "      <td>98.00</td>\n",
       "      <td>98.00</td>\n",
       "      <td>98.00</td>\n",
       "      <td>98.00</td>\n",
       "      <td>98.00</td>\n",
       "      <td>98.00</td>\n",
       "    </tr>\n",
       "    <tr>\n",
       "      <th>mean</th>\n",
       "      <td>50.31</td>\n",
       "      <td>15016.98</td>\n",
       "      <td>50.03</td>\n",
       "      <td>99.85</td>\n",
       "      <td>150.22</td>\n",
       "      <td>299.68</td>\n",
       "    </tr>\n",
       "    <tr>\n",
       "      <th>std</th>\n",
       "      <td>29.16</td>\n",
       "      <td>3469.43</td>\n",
       "      <td>7.35</td>\n",
       "      <td>16.37</td>\n",
       "      <td>23.92</td>\n",
       "      <td>50.90</td>\n",
       "    </tr>\n",
       "    <tr>\n",
       "      <th>min</th>\n",
       "      <td>1.00</td>\n",
       "      <td>6840.00</td>\n",
       "      <td>35.00</td>\n",
       "      <td>67.00</td>\n",
       "      <td>90.00</td>\n",
       "      <td>162.86</td>\n",
       "    </tr>\n",
       "    <tr>\n",
       "      <th>25%</th>\n",
       "      <td>25.25</td>\n",
       "      <td>12803.50</td>\n",
       "      <td>44.25</td>\n",
       "      <td>88.00</td>\n",
       "      <td>132.25</td>\n",
       "      <td>262.66</td>\n",
       "    </tr>\n",
       "    <tr>\n",
       "      <th>50%</th>\n",
       "      <td>50.50</td>\n",
       "      <td>14763.00</td>\n",
       "      <td>50.00</td>\n",
       "      <td>100.00</td>\n",
       "      <td>153.00</td>\n",
       "      <td>308.83</td>\n",
       "    </tr>\n",
       "    <tr>\n",
       "      <th>75%</th>\n",
       "      <td>74.75</td>\n",
       "      <td>17478.00</td>\n",
       "      <td>55.00</td>\n",
       "      <td>111.00</td>\n",
       "      <td>165.75</td>\n",
       "      <td>334.63</td>\n",
       "    </tr>\n",
       "    <tr>\n",
       "      <th>max</th>\n",
       "      <td>100.00</td>\n",
       "      <td>23128.00</td>\n",
       "      <td>68.00</td>\n",
       "      <td>136.00</td>\n",
       "      <td>201.00</td>\n",
       "      <td>403.55</td>\n",
       "    </tr>\n",
       "  </tbody>\n",
       "</table>\n",
       "</div>"
      ],
      "text/plain": [
       "       shop_id  order_amount  order_frequency  total_items  price_per_sneaker  \\\n",
       "count    98.00         98.00            98.00        98.00              98.00   \n",
       "mean     50.31      15016.98            50.03        99.85             150.22   \n",
       "std      29.16       3469.43             7.35        16.37              23.92   \n",
       "min       1.00       6840.00            35.00        67.00              90.00   \n",
       "25%      25.25      12803.50            44.25        88.00             132.25   \n",
       "50%      50.50      14763.00            50.00       100.00             153.00   \n",
       "75%      74.75      17478.00            55.00       111.00             165.75   \n",
       "max     100.00      23128.00            68.00       136.00             201.00   \n",
       "\n",
       "         AOV  \n",
       "count  98.00  \n",
       "mean  299.68  \n",
       "std    50.90  \n",
       "min   162.86  \n",
       "25%   262.66  \n",
       "50%   308.83  \n",
       "75%   334.63  \n",
       "max   403.55  "
      ]
     },
     "execution_count": 22,
     "metadata": {},
     "output_type": "execute_result"
    }
   ],
   "source": [
    "# If removing the outliers: shop_id 42 and shop_id 78\n",
    "df_shopid_new = df_shopid.drop([41,77])\n",
    "df_shopid_new.describe()"
   ]
  },
  {
   "cell_type": "markdown",
   "id": "f61da840-0f28-4790-a482-dfaf65fa6818",
   "metadata": {},
   "source": [
    "**The standard deviation of AOV is only 50.90 now.**"
   ]
  },
  {
   "cell_type": "code",
   "execution_count": 23,
   "id": "198833eb-e182-4c2a-97a5-675da3e49ce3",
   "metadata": {},
   "outputs": [
    {
     "name": "stdout",
     "output_type": "stream",
     "text": [
      "the mean value of AOV per shop: 299.68239912615485\n",
      "the median value of AOV per shop: 308.8276955602537\n",
      "the mode value of AOV per shop: 254\n"
     ]
    }
   ],
   "source": [
    "# Find values of mean AOV, median AOV and mode AOV\n",
    "print(\"the mean value of AOV per shop:\", df_shopid_new[\"AOV\"].mean())\n",
    "print(\"the median value of AOV per shop:\", df_shopid_new[\"AOV\"].median())\n",
    "print(\"the mode value of AOV per shop:\", df_shopid_new[\"AOV\"].astype(int).mode()[0])"
   ]
  },
  {
   "cell_type": "code",
   "execution_count": 24,
   "id": "3af34aa8-7d6b-4c60-9342-7109cc944eb8",
   "metadata": {},
   "outputs": [
    {
     "data": {
      "image/png": "[encoded data removed]",
      "text/plain": [
       "<Figure size 640x480 with 1 Axes>"
      ]
     },
     "metadata": {},
     "output_type": "display_data"
    }
   ],
   "source": [
    "# Visualize 98 shops' AOV using boxplot\n",
    "plotdata = df_shopid_new[\"AOV\"]\n",
    "plt.boxplot(plotdata, vert = False, labels=[\"AOV per shop\"])\n",
    "plt.show()"
   ]
  },
  {
   "cell_type": "markdown",
   "id": "416b4344-0887-4de4-8ad5-a74abf81f624",
   "metadata": {},
   "source": [
    "## Question 2\n",
    "For this question you’ll need to use SQL. Follow this link to access the data set required for the challenge. Please use queries to answer the following questions. Paste your queries along with your final numerical answers below.\n",
    "\n",
    "<br> a.How many orders were shipped by Speedy Express in total?\n",
    "<br>b.What is the last name of the employee with the most orders?\n",
    "<br>c.What product was ordered the most by customers in Germany?"
   ]
  },
  {
   "cell_type": "markdown",
   "id": "fc43573e-9eed-41e0-a37c-f732dbf7ebf9",
   "metadata": {},
   "source": [
    "### Answer 2(a)"
   ]
  },
  {
   "cell_type": "markdown",
   "id": "7f9e975f-39f2-4726-bbd7-25af40d06cb4",
   "metadata": {},
   "source": [
    "There are **54** orders were shipped by Speedy Express in total.\n",
    "``` mysql\n",
    "SELECT COUNT(DISTINCT orderID) FROM Orders o\n",
    "JOIN Shippers s\n",
    "ON o.Shipperid = s.Shipperid\n",
    "WHERE ShipperName = \"Speedy Express\"\n",
    "```"
   ]
  },
  {
   "cell_type": "markdown",
   "id": "aa424095-f326-4f21-aec0-eec3b6c3aeb9",
   "metadata": {},
   "source": [
    "### Answer 2(b)\n",
    "The last name of the employee with the most orders is **Peacock**"
   ]
  },
  {
   "cell_type": "markdown",
   "id": "fbcffeba-39f9-4077-a2b7-6ccacb7fb753",
   "metadata": {},
   "source": [
    "```mysql\n",
    "SELECT LastName \n",
    "FROM Orders o JOIN Employees e ON o.EmployeeID = e.EmployeeID\n",
    "GROUP BY o.EmployeeID\n",
    "ORDER BY COUNT(*) DESC\n",
    "LIMIT 1\n",
    "```"
   ]
  },
  {
   "cell_type": "markdown",
   "id": "19d75d4e-8c5d-45ef-872c-aba37331157a",
   "metadata": {},
   "source": [
    "### Answer 2(c)\n",
    "\n",
    "The product is **Boston Crab Meat** with total order quantity 160.\n",
    "\n",
    "```mysql\n",
    "SELECT p.ProductName, SUM(Quantity) AS TotalQuantity\n",
    "FROM Customers c, Orders o, OrderDetails od, Products p\n",
    "WHERE c.Country = \"Germany\" \n",
    "AND c.CustomerID = o.CustomerID\n",
    "AND od.OrderID = o.OrderID \n",
    "AND od.ProductID = p.ProductID \n",
    "GROUP BY p.ProductID\n",
    "ORDER BY TotalQuantity DESC\n",
    "LIMIT 1;\n",
    "```"
   ]
  }
 ],
 "metadata": {
  "kernelspec": {
   "display_name": "Python 3",
   "language": "python",
   "name": "python3"
  },
  "language_info": {
   "codemirror_mode": {
    "name": "ipython",
    "version": 3
   },
   "file_extension": ".py",
   "mimetype": "text/x-python",
   "name": "python",
   "nbconvert_exporter": "python",
   "pygments_lexer": "ipython3",
   "version": "3.8.11"
  }
 },
 "nbformat": 4,
 "nbformat_minor": 5
}
